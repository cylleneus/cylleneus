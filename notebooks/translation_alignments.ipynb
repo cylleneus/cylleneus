{
 "cells": [
  {
   "cell_type": "markdown",
   "metadata": {},
   "source": [
    "Cylleneus + Translation Alignments\n",
    "==================================\n",
    "\n",
    "Once installed, the Cylleneus engine can be used in conjunction with the CLTK and other libraries to perform queries programmatically via the search API. In this way, the engine can be used in the service of text analysis. One use could be to query and manipulate so-called \"translation alignments\", where the translation of some Latin or Greek text is linked with the primary-language source text, supporting research in classical reception or translation studies. Let's see what we can do!\n",
    "\n",
    "First, we set up our environment."
   ]
  },
  {
   "cell_type": "code",
   "execution_count": null,
   "metadata": {},
   "outputs": [],
   "source": [
    "# Utility imports\n",
    "import codecs\n",
    "\n",
    "import lxml.etree as et\n",
    "\n",
    "# We need tell Cylleneus what corpus we want to search, and then instantiate a Searcher object to execute specific queries.\n",
    "from cylleneus.corpus import Corpus\n",
    "from cylleneus.search import Collection, Searcher\n",
    "from cylleneus.utils import nrange\n",
    "from cylleneus.settings import CORPUS_DIR"
   ]
  },
  {
   "cell_type": "markdown",
   "metadata": {},
   "source": [
    "Robust translation-aligned corpora do not yet exist for Greek and Latin, but an alignment of A. T. Murray's translation of Homer's *Iliad*, produced by Gregory Crane, is available. Cylleneus comes with this text already indexed for immediate use."
   ]
  },
  {
   "cell_type": "code",
   "execution_count": null,
   "metadata": {},
   "outputs": [],
   "source": [
    "corpus = Corpus('translation_alignments')\n",
    "searcher = Searcher(Collection(works=corpus.works_for(author=\"Homer\", title=\"Iliad (English)\")))"
   ]
  },
  {
   "cell_type": "markdown",
   "metadata": {
    "pycharm": {
     "name": "#%% md\n"
    }
   },
   "source": [
    "We can start by simply searching the translation for a word (or lemma) that interests us. Perhaps we're interested in swords. Because Cylleneus supports simple word-form, searching, we could search for occurrences of 'sword' or 'swords'."
   ]
  },
  {
   "cell_type": "code",
   "execution_count": null,
   "outputs": [],
   "source": [
    "# Let's see how results we get.\n",
    "search = searcher.search('sword')\n",
    "print(\"Results for 'sword':\", len(search.results))\n",
    "\n",
    "search = searcher.search('swords')\n",
    "print(\"Results for 'swords':\", len(search.results))"
   ],
   "metadata": {
    "collapsed": false,
    "pycharm": {
     "name": "#%%\n"
    }
   }
  },
  {
   "cell_type": "markdown",
   "source": [
    "But Cylleneus also supports lemma-based queries. Since we want to capture all occurrences of this English word (not just those in the singular or plural), we can chance our query to search by the lemma 'sword'."
   ],
   "metadata": {
    "collapsed": false
   }
  },
  {
   "cell_type": "code",
   "execution_count": null,
   "outputs": [],
   "source": [
    "# This should get us all of them.\n",
    "search = searcher.search('<sword>')\n",
    "print(\"Results for <sword>:\", len(search.results))\n",
    "\n",
    "# View the raw search results.\n",
    "# for hlite in search.highlights:\n",
    "#     print(hlite.reference, \"=\", hlite.text)"
   ],
   "metadata": {
    "collapsed": false,
    "pycharm": {
     "name": "#%%\n"
    }
   }
  },
  {
   "cell_type": "markdown",
   "source": [
    "That's better. But by now we must be wondering: what word or words in Greek is English 'sword' translating? There are, after all, at least three Greek words corresponding to this meaning: *ξίφος*, *ἄορ*, and *φάσγανον* (there is also *ῥομφαία*, but that is more like a 'broadsword' and at any rate is a late word). Does Homer use all three for 'sword'? We can use our translation alignment, along with a primary source text, to explore the question.\n",
    "\n",
    "*ἄορ* is intriguing. It occurs in the *Odyssey* as a clear synonym of *ξίφος* and can be substituted for it in similar formulaic expressions (cf. 10.294, *σὺ ξίφος ὀξὺ ἐρυσσάμενος παρὰ μηροῦ* with 11.24, *ἐγὼ δ᾽ ἄορ ὀξὺ ἐρυσσάμενος παρὰ μηροῦ*). Does it ever bear the meaning of 'sword' in the *Iliad*?"
   ],
   "metadata": {
    "collapsed": false
   }
  },
  {
   "cell_type": "code",
   "execution_count": null,
   "outputs": [],
   "source": [
    "# Let's first define some convenience functions to help us manipulate the alignment data.\n",
    "def match_lemma(doc, alignment, lemma):    \n",
    "    \"\"\" Match a lemma within a given alignment reference range \"\"\"\n",
    "\n",
    "    # Get the alignment reference for the match in the English translation\n",
    "    try:\n",
    "        start, end = alignment.split('-')\n",
    "    except ValueError:\n",
    "        start = end = alignment\n",
    "\n",
    "    # Get all tokens within the reference range\n",
    "    tokens = [t\n",
    "        for ref in nrange(start.split('.'), end.split('.'))\n",
    "        for t in doc.findall(\".//t[@p='{}']\".format('.'.join([str(n) for n in ref])))\n",
    "    ]\n",
    "\n",
    "    # Scan the tokens for the target lemma\n",
    "    matches = []\n",
    "    for token in tokens:\n",
    "        l1 = token.find('l').find('l1')\n",
    "\n",
    "        if l1 is not None:\n",
    "            if l1.text == lemma:\n",
    "                matches.append(token.get('p'))\n",
    "    return matches\n",
    "\n",
    "def aligned_text(doc, alignment):\n",
    "    \"\"\" Fetch source text for a given alignment reference range \"\"\"\n",
    "    \n",
    "    # Get the alignment reference for the match in the English translation\n",
    "    try:\n",
    "        start, end = alignment.split('-')\n",
    "    except ValueError:\n",
    "        start = end = alignment\n",
    "\n",
    "    # Get all tokens within the reference range\n",
    "    tokens = [t\n",
    "        for ref in nrange(start.split('.'), end.split('.'))\n",
    "        for t in doc.findall(\".//t[@p='{}']\".format('.'.join([str(n) for n in ref])))\n",
    "    ]\n",
    "\n",
    "    # Reconstruct the text\n",
    "    s = \"\"\n",
    "    for token in tokens:\n",
    "        f = token.find('f')\n",
    "        join = token.get('join')\n",
    "        if join and join == \"b\":\n",
    "            s += f.text     \n",
    "        else:\n",
    "            s += \" \" + f.text\n",
    "    return s"
   ],
   "metadata": {
    "collapsed": false,
    "pycharm": {
     "name": "#%%\n"
    }
   }
  },
  {
   "cell_type": "markdown",
   "source": [
    "Now let's load a lemmatized text of the _Iliad_, to check our results against."
   ],
   "metadata": {
    "collapsed": false,
    "pycharm": {
     "name": "#%% md\n"
    }
   }
  },
  {
   "cell_type": "code",
   "execution_count": null,
   "outputs": [],
   "source": [
    "with codecs.open(CORPUS_DIR + \"/eng/translation_alignments/source/tlg0012.tlg001.perseus-grc2.xml\", 'rb') as fp:\n",
    "    value = fp.read()\n",
    "parser = et.XMLParser(encoding='utf-8')\n",
    "doc = et.XML(value, parser=parser)"
   ],
   "metadata": {
    "collapsed": false,
    "pycharm": {
     "name": "#%%\n"
    }
   }
  },
  {
   "cell_type": "markdown",
   "source": [
    "Now we can match our translations against the source text. Do any of the English results for 'sword' match for *ἄορ* in the Greek?\n"
   ],
   "metadata": {
    "collapsed": false,
    "pycharm": {
     "name": "#%% md\n"
    }
   }
  },
  {
   "cell_type": "code",
   "execution_count": null,
   "outputs": [],
   "source": [
    "matched = []\n",
    "hlites = list(search.highlights)\n",
    "print(\"Results matching for 'ἄορ':\")\n",
    "for i, (hit, meta, fragment) in enumerate(search.results):\n",
    "    text = aligned_text(doc, meta[\"start\"][\"alignment\"])\n",
    "    for match in match_lemma(doc, meta[\"start\"][\"alignment\"], \"ἄορ\"):\n",
    "        print(match, text, hlites[i].text)\n",
    "        matched.append(meta[\"start\"][\"alignment\"])"
   ],
   "metadata": {
    "collapsed": false,
    "pycharm": {
     "name": "#%%\n"
    }
   }
  },
  {
   "cell_type": "markdown",
   "source": [
    "Yes! A fair number, in fact. What about *ξίφος*?"
   ],
   "metadata": {
    "collapsed": false
   }
  },
  {
   "cell_type": "code",
   "execution_count": null,
   "outputs": [],
   "source": [
    "print(\"Results matching for 'ξίφος':\")\n",
    "for i, (hit, meta, fragment) in enumerate(search.results):\n",
    "    text = aligned_text(doc, meta[\"start\"][\"alignment\"])\n",
    "    for match in match_lemma(doc, meta[\"start\"][\"alignment\"], \"ξίφος\"):\n",
    "        print(match, text, hlites[i].text)\n",
    "        matched.append(meta[\"start\"][\"alignment\"])"
   ],
   "metadata": {
    "collapsed": false,
    "pycharm": {
     "name": "#%%\n"
    }
   }
  },
  {
   "cell_type": "markdown",
   "source": [
    "And *φάσγανον*?"
   ],
   "metadata": {
    "collapsed": false
   }
  },
  {
   "cell_type": "code",
   "execution_count": null,
   "outputs": [],
   "source": [
    "print(\"Results matching for 'φάσγανον':\")\n",
    "for i, (hit, meta, fragment) in enumerate(search.results):\n",
    "    text = aligned_text(doc, meta[\"start\"][\"alignment\"])\n",
    "    for match in match_lemma(doc, meta[\"start\"][\"alignment\"], \"φάσγανον\"):\n",
    "        print(match, text, hlites[i].text)\n",
    "        matched.append(meta[\"start\"][\"alignment\"])\n",
    "        "
   ],
   "metadata": {
    "collapsed": false,
    "pycharm": {
     "name": "#%% \n"
    }
   }
  },
  {
   "cell_type": "markdown",
   "source": [
    "*ξίφος* stands behind the greatest number of 'sword' appearances by far. You may have noticed, though, that the number of results matching for *ξίφος*, *ἄορ*, and *φάσγανον* together does not add up to the number of results for `<sword>` in Murray's translation. What accounts for the unmatched translations?"
   ],
   "metadata": {
    "collapsed": false,
    "pycharm": {
     "name": "#%% md\n"
    }
   }
  },
  {
   "cell_type": "code",
   "execution_count": null,
   "outputs": [],
   "source": [
    "missing = [\n",
    "    (meta[\"start\"][\"alignment\"], hlites[i].text)\n",
    "    for i, (hit, meta, fragment) in enumerate(search.results)\n",
    "    if meta[\"start\"][\"alignment\"] not in matched\n",
    "]\n",
    "\n",
    "for alignment, text in missing:\n",
    "    print(alignment, text, aligned_text(doc, alignment))\n",
    "    "
   ],
   "metadata": {
    "collapsed": false,
    "pycharm": {
     "name": "#%%\n"
    }
   }
  },
  {
   "cell_type": "markdown",
   "source": [
    "In the first case, 'sword' actually occurs as part of the translation of *χρυσάορος*, an epithet of Apollo (\"golden-sword'd\"): a part-of-speech mismatch. In the third, 'swords' translates *ξιφέεσσιν*, which should have been counted amongst the matches for that word. For some reason, however, it was not correctly lemmatized. The remaining occurrence is more revealing. It reminds us that *χαλκός* (like Latin *ferrum*) can also, by a kind of metonymy, have the sense of 'sword'. This is a case, then, where the translator has \"flattened\" the sense of the source text, replacing the figurative expression with a more prosaic one. It is also a case in which the translator has interpreted a generic term -- in addition to 'sword', we know that *χαλκός* (literally, 'bronze') can also cover the meaning of 'spear', 'knife', 'axe', or even 'armor' -- in a more specialized sense. Of course, Cylleneus can't explain why that choice was made. But it has helped us identify some interesting features of Murray's translation."
   ],
   "metadata": {
    "collapsed": false,
    "pycharm": {
     "name": "#%% md\n"
    }
   }
  }
 ],
 "metadata": {
  "kernelspec": {
   "display_name": "Python 3",
   "language": "python",
   "name": "python3"
  },
  "language_info": {
   "codemirror_mode": {
    "name": "ipython",
    "version": 3
   },
   "file_extension": ".py",
   "mimetype": "text/x-python",
   "name": "python",
   "nbconvert_exporter": "python",
   "pygments_lexer": "ipython3",
   "version": "3.7.2-final"
  }
 },
 "nbformat": 4,
 "nbformat_minor": 2
}