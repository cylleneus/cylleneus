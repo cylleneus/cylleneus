{
 "cells": [
  {
   "cell_type": "markdown",
   "metadata": {},
   "source": [
    "# Cylleneus\n",
    "#### Next-gen corpus search for electronic corpora of ancient languages"
   ]
  },
  {
   "cell_type": "code",
   "execution_count": null,
   "metadata": {},
   "outputs": [],
   "source": [
    "# Get everything set up\n",
    "import codecs, re\n",
    "from itertools import chain\n",
    "from textwrap import wrap\n",
    "\n",
    "import multiwordnet\n",
    "\n",
    "from cylleneus.corpus import Corpus\n",
    "from cylleneus.search import Collection, Searcher\n",
    "\n",
    "# Check MultiWordNet installation\n",
    "for language in [\"common\", \"english\", \"french\", \"hebrew\", \"italian\", \"latin\", \"spanish\", \"portuguese\"]:\n",
    "    if not multiwordnet.db.exists(language):\n",
    "        multiwordnet.db.compile(language, verbose=False)\n",
    "\n",
    "# Convenience method to remove formatting tags from highlighted text\n",
    "def display_text(text: str):\n",
    "    subs = [(\"<pre>\", \"\"), (\"</pre>\", \"\"), (\"<match>\", \"\"), (\"</match>\", \"\"), (\"<post>\", \"\"), (\"</post>\", \"\"), (r\"<em>(.+?)</em>\", r\"\\033[1m\\033[36m\\1\\033[21m\\033[0m\")]\n",
    "    for pat, sub in subs:\n",
    "        text = re.sub(pat, sub, text, re.DOTALL)\n",
    "    return \"\\n\".join(wrap(text))"
   ]
  },
  {
   "cell_type": "markdown",
   "metadata": {},
   "source": [
    "The process of executing a query and retrieving search results with Cylleneus comprises several steps.\n",
    "\n",
    "##### Build a collection\n",
    "\n",
    "Searches are conducted over an abstraction called a ``Collection``, which is a group of works from one or more corpora.\n",
    "A ``Collection`` may contain all the works of a corpus, or only some of its works, or even works from different corpora\n",
    "at the same time. (The types of queries you can then perform over the ``Collection`` will depend on the characteristics\n",
    "of the included corpora). This means, in the very first instance, that you must select and load a corpus (or multiple\n",
    "corpora) and use this to create a ``Collection`` object."
   ]
  },
  {
   "cell_type": "code",
   "execution_count": null,
   "metadata": {},
   "outputs": [],
   "source": [
    "# Load one or more corpora\n",
    "proiel = Corpus(\"proiel\")\n",
    "if not proiel.searchable:\n",
    "    proiel.download()\n",
    "\n",
    "agldt = Corpus(\"agldt\")\n",
    "if not agldt.searchable:\n",
    "    agldt.download()\n",
    "\n",
    "# Create the collection with the combined works of the two corpora\n",
    "collection = Collection(works=chain(proiel.works, agldt.works))\n",
    "\n",
    "# Optionally, save the collection for later use\n",
    "# collection.save(\"my_collection\")"
   ]
  },
  {
   "cell_type": "markdown",
   "source": [
    "##### Perform the search\n",
    "\n",
    "Once you have built a collection, you can execute queries over it."
   ],
   "metadata": {
    "collapsed": false
   }
  },
  {
   "cell_type": "code",
   "execution_count": null,
   "outputs": [],
   "source": [
    "# Create a searcher for this collection\n",
    "searcher = Searcher(collection)\n",
    "\n",
    "# Create and execute a query\n",
    "query = \"\"\"\n",
    "<virtus>\n",
    "\"\"\".strip()\n",
    "\n",
    "# Perform the search over the collection\n",
    "results = searcher.search(query.strip())"
   ],
   "metadata": {
    "collapsed": false,
    "pycharm": {
     "name": "#%%\n"
    }
   }
  },
  {
   "cell_type": "markdown",
   "metadata": {},
   "source": [
    "##### Working with results\n",
    "\n",
    "The results of a search are encapsulated in a ``Search`` object, which exposes several useful properties and methods for\n",
    "working with results."
   ]
  },
  {
   "cell_type": "code",
   "execution_count": null,
   "metadata": {
    "pycharm": {
     "name": "#%%\n"
    }
   },
   "outputs": [],
   "source": [
    "# Display search information\n",
    "\n",
    "# `spec` stores the query string originally provided by the user, whereas\n",
    "# `query` is the resolved internal representation used for matching against the index\n",
    "print(f\"{results.spec} (= {results.query})\")\n",
    "print(f\"{'=' * (len(results.spec + str(results.query)) + 5)}\")\n",
    "\n",
    "# `start` and `end` give the start and end times of the search in human-readable format,\n",
    "# whilst `start_dt` and `end_dt` store the corresponding datetime objects\n",
    "print(f\"{results.start}\\n\")\n",
    "\n",
    "# `count` stores the results count as a tuple, giving the total number of\n",
    "# matches, the number of documents in which results were found, and the\n",
    "# number of corpora in which results were found\n",
    "matches, docs, corpora = results.count\n",
    "print(f\"Found {matches} matches in {docs} documents from {corpora} corpora\")\n",
    "\n",
    "# `duration` gives the total elapsed time of the search in hours, minutes, and seconds\n",
    "print(f\"in total elapsed time of {results.duration} secs.\\n\")\n",
    "\n",
    "# `collection` stores the `Collection` object over which the search was executed\n",
    "for work in results.collection:\n",
    "   print(f\"{work.author}, {work.title} [{work.corpus}]\")\n",
    "\n",
    "# Display results as nicely formatted plaintext\n",
    "for corpus, author, title, urn, reference, text in results.to_text():\n",
    "  print(f\"{author}, {title}: {reference}\\n{display_text(text)}\\n\")\n",
    "\n",
    "# Or display the raw highlighted results using the `HitRef` object\n",
    "# for hlite in results.highlights:\n",
    "#    print(f\"{hlite.author}, {hlite.title}: {hlite.reference}\\n{hlite.text}\\n\")\n",
    "\n",
    "# Or save the search results in JSON format; if needed, these can later be re-loaded with `from_json()`\n",
    "# with codecs.open(\"my_results.json\", \"w\", \"utf8\") as fp:\n",
    "#    fp.write(results.to_json())\n",
    "\n",
    "# Or save the results as a Microsoft Word document, optionally giving a filename;\n",
    "# if you do not specify one, the original search specification will be used\n",
    "# results.to_docx(\"my_results.docx\")"
   ]
  }
 ],
 "metadata": {
  "kernelspec": {
   "display_name": "Python 3",
   "language": "python",
   "name": "python3"
  },
  "language_info": {
   "codemirror_mode": {
    "name": "ipython",
    "version": 3
   },
   "file_extension": ".py",
   "mimetype": "text/x-python",
   "name": "python",
   "nbconvert_exporter": "python",
   "pygments_lexer": "ipython3",
   "version": "3.7.2"
  },
  "pycharm": {
   "stem_cell": {
    "cell_type": "raw",
    "source": [
     "#%\n",
     "\n"
    ],
    "metadata": {
     "collapsed": false
    }
   }
  }
 },
 "nbformat": 4,
 "nbformat_minor": 1
}