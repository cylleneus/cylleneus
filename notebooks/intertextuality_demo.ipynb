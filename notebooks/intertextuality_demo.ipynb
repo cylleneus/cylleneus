{
 "cells": [
  {
   "cell_type": "markdown",
   "metadata": {},
   "source": [
    "Cylleneus + intertextuality\n",
    "===========================\n",
    "\n",
    "Once installed, the Cylleneus engine can be used in conjunction with the CLTK to perform queries programmatically via the search API. In this way, the engine can in fact be used to build NLP applications. One very simple and straightforward use of Cylleneus' lemma-based query functionality would be to try to find 'intertexts' -- passages of text that are lexically similar to, but not morphologically identical to, some source text. Let's try it out.\n",
    "\n",
    "First, set up the environment."
   ]
  },
  {
   "cell_type": "code",
   "execution_count": 2,
   "metadata": {},
   "outputs": [
    {
     "ename": "ModuleNotFoundError",
     "evalue": "No module named 'cylleneus.corpus.grk.diorisis.tokenizer'",
     "output_type": "error",
     "traceback": [
      "\u001B[1;31m---------------------------------------------------------------------------\u001B[0m",
      "\u001B[1;31mModuleNotFoundError\u001B[0m                       Traceback (most recent call last)",
      "\u001B[1;32m<ipython-input-2-473df87de9ce>\u001B[0m in \u001B[0;36m<module>\u001B[1;34m\u001B[0m\n\u001B[0;32m     10\u001B[0m \u001B[0mSTOPS_LIST\u001B[0m \u001B[1;33m+=\u001B[0m \u001B[1;33m[\u001B[0m\u001B[1;34m'-que'\u001B[0m\u001B[1;33m,\u001B[0m \u001B[1;34m'-ve'\u001B[0m\u001B[1;33m,\u001B[0m \u001B[1;34m'-ne'\u001B[0m\u001B[1;33m]\u001B[0m\u001B[1;33m\u001B[0m\u001B[1;33m\u001B[0m\u001B[0m\n\u001B[0;32m     11\u001B[0m \u001B[1;33m\u001B[0m\u001B[0m\n\u001B[1;32m---> 12\u001B[1;33m \u001B[1;32mfrom\u001B[0m \u001B[0mcylleneus\u001B[0m\u001B[1;33m.\u001B[0m\u001B[0mcorpus\u001B[0m \u001B[1;32mimport\u001B[0m \u001B[0mCorpus\u001B[0m\u001B[1;33m\u001B[0m\u001B[1;33m\u001B[0m\u001B[0m\n\u001B[0m\u001B[0;32m     13\u001B[0m \u001B[1;32mfrom\u001B[0m \u001B[0mcylleneus\u001B[0m\u001B[1;33m.\u001B[0m\u001B[0msearch\u001B[0m \u001B[1;32mimport\u001B[0m \u001B[0mSearcher\u001B[0m\u001B[1;33m,\u001B[0m \u001B[0mCollection\u001B[0m\u001B[1;33m\u001B[0m\u001B[1;33m\u001B[0m\u001B[0m\n\u001B[0;32m     14\u001B[0m \u001B[1;33m\u001B[0m\u001B[0m\n",
      "\u001B[1;32mC:\\Users\\ws308\\PycharmProjects\\cylleneus\\cylleneus\\corpus\\__init__.py\u001B[0m in \u001B[0;36m<module>\u001B[1;34m\u001B[0m\n\u001B[1;32m----> 1\u001B[1;33m \u001B[1;32mfrom\u001B[0m \u001B[1;33m.\u001B[0m\u001B[0mcore\u001B[0m \u001B[1;32mimport\u001B[0m \u001B[0mCorpus\u001B[0m\u001B[1;33m,\u001B[0m \u001B[0mWork\u001B[0m\u001B[1;33m\u001B[0m\u001B[1;33m\u001B[0m\u001B[0m\n\u001B[0m\u001B[0;32m      2\u001B[0m \u001B[1;32mfrom\u001B[0m \u001B[1;33m.\u001B[0m\u001B[0mindexer\u001B[0m \u001B[1;32mimport\u001B[0m \u001B[0mIndexer\u001B[0m\u001B[1;33m\u001B[0m\u001B[1;33m\u001B[0m\u001B[0m\n\u001B[0;32m      3\u001B[0m \u001B[1;32mfrom\u001B[0m \u001B[1;33m.\u001B[0m\u001B[0mmeta\u001B[0m \u001B[1;32mimport\u001B[0m \u001B[0mmanifest\u001B[0m\u001B[1;33m\u001B[0m\u001B[1;33m\u001B[0m\u001B[0m\n",
      "\u001B[1;32mC:\\Users\\ws308\\PycharmProjects\\cylleneus\\cylleneus\\corpus\\core.py\u001B[0m in \u001B[0;36m<module>\u001B[1;34m\u001B[0m\n\u001B[0;32m     15\u001B[0m \u001B[1;32mfrom\u001B[0m \u001B[0mcylleneus\u001B[0m\u001B[1;33m.\u001B[0m\u001B[0mutils\u001B[0m \u001B[1;32mimport\u001B[0m \u001B[0mslugify\u001B[0m\u001B[1;33m,\u001B[0m \u001B[0mprint_debug\u001B[0m\u001B[1;33m,\u001B[0m \u001B[0mDEBUG_HIGH\u001B[0m\u001B[1;33m,\u001B[0m \u001B[0mDEBUG_MEDIUM\u001B[0m\u001B[1;33m\u001B[0m\u001B[1;33m\u001B[0m\u001B[0m\n\u001B[0;32m     16\u001B[0m \u001B[1;32mfrom\u001B[0m \u001B[1;33m.\u001B[0m \u001B[1;32mimport\u001B[0m \u001B[0mindexer\u001B[0m\u001B[1;33m\u001B[0m\u001B[1;33m\u001B[0m\u001B[0m\n\u001B[1;32m---> 17\u001B[1;33m \u001B[1;32mfrom\u001B[0m \u001B[1;33m.\u001B[0m\u001B[0mmeta\u001B[0m \u001B[1;32mimport\u001B[0m \u001B[0mmanifest\u001B[0m\u001B[1;33m\u001B[0m\u001B[1;33m\u001B[0m\u001B[0m\n\u001B[0m\u001B[0;32m     18\u001B[0m \u001B[1;33m\u001B[0m\u001B[0m\n\u001B[0;32m     19\u001B[0m \u001B[1;33m\u001B[0m\u001B[0m\n",
      "\u001B[1;32mC:\\Users\\ws308\\PycharmProjects\\cylleneus\\cylleneus\\corpus\\meta.py\u001B[0m in \u001B[0;36m<module>\u001B[1;34m\u001B[0m\n\u001B[0;32m     41\u001B[0m         ):\n\u001B[0;32m     42\u001B[0m             \u001B[1;32mif\u001B[0m \u001B[0mc_is_pkg\u001B[0m\u001B[1;33m:\u001B[0m\u001B[1;33m\u001B[0m\u001B[1;33m\u001B[0m\u001B[0m\n\u001B[1;32m---> 43\u001B[1;33m                 \u001B[0mc_pkg\u001B[0m \u001B[1;33m=\u001B[0m \u001B[0mimportlib\u001B[0m\u001B[1;33m.\u001B[0m\u001B[0mimport_module\u001B[0m\u001B[1;33m(\u001B[0m\u001B[0mc_name\u001B[0m\u001B[1;33m)\u001B[0m\u001B[1;33m\u001B[0m\u001B[1;33m\u001B[0m\u001B[0m\n\u001B[0m\u001B[0;32m     44\u001B[0m                 \u001B[1;32mif\u001B[0m \u001B[0mhasattr\u001B[0m\u001B[1;33m(\u001B[0m\u001B[0mc_pkg\u001B[0m\u001B[1;33m,\u001B[0m \u001B[1;34m\"meta\"\u001B[0m\u001B[1;33m)\u001B[0m\u001B[1;33m:\u001B[0m\u001B[1;33m\u001B[0m\u001B[1;33m\u001B[0m\u001B[0m\n\u001B[0;32m     45\u001B[0m                     \u001B[0mmanifest\u001B[0m\u001B[1;33m[\u001B[0m\u001B[0mc_name\u001B[0m\u001B[1;33m.\u001B[0m\u001B[0msplit\u001B[0m\u001B[1;33m(\u001B[0m\u001B[1;34m\".\"\u001B[0m\u001B[1;33m)\u001B[0m\u001B[1;33m[\u001B[0m\u001B[1;33m-\u001B[0m\u001B[1;36m1\u001B[0m\u001B[1;33m]\u001B[0m\u001B[1;33m]\u001B[0m \u001B[1;33m=\u001B[0m \u001B[0mc_pkg\u001B[0m\u001B[1;33m.\u001B[0m\u001B[0mmeta\u001B[0m\u001B[1;33m\u001B[0m\u001B[1;33m\u001B[0m\u001B[0m\n",
      "\u001B[1;32mC:\\Users\\ws308\\AppData\\Local\\Programs\\Python\\Python37\\lib\\importlib\\__init__.py\u001B[0m in \u001B[0;36mimport_module\u001B[1;34m(name, package)\u001B[0m\n\u001B[0;32m    125\u001B[0m                 \u001B[1;32mbreak\u001B[0m\u001B[1;33m\u001B[0m\u001B[1;33m\u001B[0m\u001B[0m\n\u001B[0;32m    126\u001B[0m             \u001B[0mlevel\u001B[0m \u001B[1;33m+=\u001B[0m \u001B[1;36m1\u001B[0m\u001B[1;33m\u001B[0m\u001B[1;33m\u001B[0m\u001B[0m\n\u001B[1;32m--> 127\u001B[1;33m     \u001B[1;32mreturn\u001B[0m \u001B[0m_bootstrap\u001B[0m\u001B[1;33m.\u001B[0m\u001B[0m_gcd_import\u001B[0m\u001B[1;33m(\u001B[0m\u001B[0mname\u001B[0m\u001B[1;33m[\u001B[0m\u001B[0mlevel\u001B[0m\u001B[1;33m:\u001B[0m\u001B[1;33m]\u001B[0m\u001B[1;33m,\u001B[0m \u001B[0mpackage\u001B[0m\u001B[1;33m,\u001B[0m \u001B[0mlevel\u001B[0m\u001B[1;33m)\u001B[0m\u001B[1;33m\u001B[0m\u001B[1;33m\u001B[0m\u001B[0m\n\u001B[0m\u001B[0;32m    128\u001B[0m \u001B[1;33m\u001B[0m\u001B[0m\n\u001B[0;32m    129\u001B[0m \u001B[1;33m\u001B[0m\u001B[0m\n",
      "\u001B[1;32mC:\\Users\\ws308\\PycharmProjects\\cylleneus\\cylleneus\\corpus\\grk\\diorisis\\__init__.py\u001B[0m in \u001B[0;36m<module>\u001B[1;34m\u001B[0m\n\u001B[0;32m      1\u001B[0m \u001B[1;32mfrom\u001B[0m \u001B[1;33m.\u001B[0m\u001B[0mcore\u001B[0m \u001B[1;32mimport\u001B[0m \u001B[1;33m*\u001B[0m\u001B[1;33m\u001B[0m\u001B[1;33m\u001B[0m\u001B[0m\n\u001B[0;32m      2\u001B[0m \u001B[1;32mfrom\u001B[0m \u001B[1;33m.\u001B[0m\u001B[0mpreprocessor\u001B[0m \u001B[1;32mimport\u001B[0m \u001B[0mPreprocessor\u001B[0m\u001B[1;33m\u001B[0m\u001B[1;33m\u001B[0m\u001B[0m\n\u001B[1;32m----> 3\u001B[1;33m \u001B[1;32mfrom\u001B[0m \u001B[1;33m.\u001B[0m\u001B[0mschema\u001B[0m \u001B[1;32mimport\u001B[0m \u001B[0mDocumentSchema\u001B[0m\u001B[1;33m\u001B[0m\u001B[1;33m\u001B[0m\u001B[0m\n\u001B[0m\u001B[0;32m      4\u001B[0m \u001B[1;32mfrom\u001B[0m \u001B[1;33m.\u001B[0m\u001B[0mtokenizer\u001B[0m \u001B[1;32mimport\u001B[0m \u001B[0mTokenizer\u001B[0m\u001B[1;33m\u001B[0m\u001B[1;33m\u001B[0m\u001B[0m\n\u001B[0;32m      5\u001B[0m \u001B[1;33m\u001B[0m\u001B[0m\n",
      "\u001B[1;32mC:\\Users\\ws308\\PycharmProjects\\cylleneus\\cylleneus\\corpus\\grk\\diorisis\\schema.py\u001B[0m in \u001B[0;36m<module>\u001B[1;34m\u001B[0m\n\u001B[0;32m      3\u001B[0m \u001B[1;32mfrom\u001B[0m \u001B[0mcylleneus\u001B[0m\u001B[1;33m.\u001B[0m\u001B[0mengine\u001B[0m\u001B[1;33m.\u001B[0m\u001B[0manalysis\u001B[0m\u001B[1;33m.\u001B[0m\u001B[0mfilters\u001B[0m \u001B[1;32mimport\u001B[0m \u001B[0mAnnotationFilter\u001B[0m\u001B[1;33m,\u001B[0m \u001B[0mSemfieldFilter\u001B[0m\u001B[1;33m\u001B[0m\u001B[1;33m\u001B[0m\u001B[0m\n\u001B[0;32m      4\u001B[0m \u001B[1;33m\u001B[0m\u001B[0m\n\u001B[1;32m----> 5\u001B[1;33m \u001B[1;32mfrom\u001B[0m \u001B[1;33m.\u001B[0m\u001B[0mtokenizer\u001B[0m \u001B[1;32mimport\u001B[0m \u001B[0mCachedTokenizer\u001B[0m\u001B[1;33m\u001B[0m\u001B[1;33m\u001B[0m\u001B[0m\n\u001B[0m\u001B[0;32m      6\u001B[0m \u001B[1;32mfrom\u001B[0m \u001B[1;33m.\u001B[0m\u001B[0mfilters\u001B[0m \u001B[1;32mimport\u001B[0m \u001B[0mCachedLemmaFilter\u001B[0m\u001B[1;33m,\u001B[0m \u001B[0mCachedSynsetFilter\u001B[0m\u001B[1;33m\u001B[0m\u001B[1;33m\u001B[0m\u001B[0m\n\u001B[0;32m      7\u001B[0m \u001B[1;33m\u001B[0m\u001B[0m\n",
      "\u001B[1;31mModuleNotFoundError\u001B[0m: No module named 'cylleneus.corpus.grk.diorisis.tokenizer'"
     ]
    }
   ],
   "source": [
    "# Utility imports\n",
    "from copy import copy\n",
    "from pprint import pprint\n",
    "from textwrap import wrap\n",
    "import re\n",
    "\n",
    "# Some standard CLTK imports\n",
    "from cltk.stop.latin import STOPS_LIST\n",
    "from cltk.tokenize.latin.word import WordTokenizer\n",
    "STOPS_LIST += ['-que', '-ve', '-ne']\n",
    "\n",
    "from cylleneus.corpus import Corpus\n",
    "from cylleneus.search import Searcher, Collection\n",
    "\n",
    "import multiwordnet\n",
    "\n",
    "# Check MultiWordNet installation\n",
    "for language in [\"common\", \"english\", \"french\", \"hebrew\", \"italian\", \"latin\", \"spanish\"]:\n",
    "    if not multiwordnet.db.exists(language):\n",
    "        multiwordnet.db.compile(language, verbose=False)\n"
   ]
  },
  {
   "cell_type": "markdown",
   "metadata": {},
   "source": [
    "Let's use the pre-indexed Perseus Digital Library sample mini-corpus; it includes the major works of Vergil."
   ]
  },
  {
   "cell_type": "code",
   "execution_count": null,
   "metadata": {},
   "outputs": [],
   "source": [
    "corpus = Corpus(\"perseus\")\n",
    "if not corpus.searchable:\n",
    "    corpus.download()"
   ]
  },
  {
   "cell_type": "markdown",
   "metadata": {},
   "source": [
    "Because we want to abstract away morphological details of our source text, we are also going to need to tokenize and lemmatize this text. In this case, for simplicity's sake, we will just be searching for a single phrase, which we can input manually. Since the text isn't coming from a structured corpus, we can use the built-in plaintext tokenizer and lemmatizer."
   ]
  },
  {
   "cell_type": "code",
   "execution_count": null,
   "metadata": {},
   "outputs": [],
   "source": [
    "# The plaintext tokenizer is suitable for tokenizing plaintext sources.\n",
    "from cylleneus.corpus.default import CachedTokenizer\n",
    "\n",
    "# The lemma filter takes a sequence of tokens (word-forms) and uses the Latin WordNet for lemmatization and morphological analysis.\n",
    "from cylleneus.engine.analysis.filters import CachedLemmaFilter\n",
    "\n",
    "word_tokenizer = WordTokenizer()\n",
    "tokenizer = CachedTokenizer()\n",
    "lemmatizer = CachedLemmaFilter(cached=False)\n"
   ]
  },
  {
   "cell_type": "markdown",
   "metadata": {},
   "source": [
    "Now let's run our \"source\" text through our lemmatization pipeline. In this fabricated example, we are going to search for texts similar to the phrase of Lucretius: *gelidamque pruinam* (Lucr. *RN.* 2.431)."
   ]
  },
  {
   "cell_type": "code",
   "execution_count": null,
   "metadata": {},
   "outputs": [],
   "source": [
    "text = 'gelidamque pruinam'\n",
    "\n",
    "# For efficiency the tokenizer reuses a single Token object, so each token needs to be copied to be preserved\n",
    "words = [word for word in word_tokenizer.tokenize(text) if word not in STOPS_LIST]\n",
    "tokens = [copy(token) for token in tokenizer(words, mode='index', tokenize=False)]\n",
    "\n",
    "lemmas = []\n",
    "for token in tokens:\n",
    "    lemmatized = set()\n",
    "    for lemma in lemmatizer([copy(token),]):\n",
    "        lemmatized.add(lemma.text.split(':')[0])\n",
    "\n",
    "    lemmas.append(list(lemmatized))"
   ]
  },
  {
   "cell_type": "markdown",
   "metadata": {},
   "source": [
    "At this point we need to construct a well-formed lemma-based query for Cylleneus to execute. We could simply combine the lemmatized tokens together as a sequence.\n",
    "\n",
    "NB. The lemmatizer tries to be inclusive as possible, so a form like *fatis* will generate multiple lemmas for possible matching: *fatum* as well as *fatis* and *fatus*. This is why, if we were to inspect the `lemmas` object, we would find that each word of the original text resolves to a list of lemmas."
   ]
  },
  {
   "cell_type": "code",
   "execution_count": null,
   "metadata": {},
   "outputs": [],
   "source": [
    "# pprint(lemmas)"
   ]
  },
  {
   "cell_type": "code",
   "execution_count": null,
   "metadata": {},
   "outputs": [],
   "source": [
    "# Construct sequential lemma-based query\n",
    "subqueries = []\n",
    "for i, lemma in enumerate(lemmas):\n",
    "    # If lemmatization didn't produce anything, use the original form\n",
    "    if len(lemma) == 0:\n",
    "        subqueries.append(tokens[i].text)\n",
    "    elif len(lemma) == 1:\n",
    "        subqueries.append(f\"<{lemma[0]}>\")\n",
    "    else:\n",
    "        subqueries.append(f'''({' OR '.join([f\"<{alt}>\" for alt in lemma])})''')\n",
    "\n",
    "# Join all subqueries into a single adjacency query\n",
    "adjacency_lemmas = f'''\"{' THEN '.join(subqueries)}\"'''\n",
    "# pprint(adjacency_lemmas)\n"
   ]
  },
  {
   "cell_type": "markdown",
   "metadata": {},
   "source": [
    "To be more inclusive -- and to take account of that intervening *-que* in Lucretius -- we should probably do away with the strict sequential requirement and try instead using a proximity query. In this case, any text will match provided only that it contains the matching query terms, irrespective of their ordering."
   ]
  },
  {
   "cell_type": "code",
   "execution_count": null,
   "metadata": {},
   "outputs": [],
   "source": [
    "proximity_lemmas = f'''{' AND '.join(subqueries)}'''\n",
    "# pprint(proximity_lemmas)"
   ]
  },
  {
   "cell_type": "code",
   "execution_count": null,
   "metadata": {},
   "outputs": [],
   "source": [
    "# Execute the query against the given collection of texts.\n",
    "searcher = Searcher(Collection(works=corpus.works))\n",
    "results = searcher.search(proximity_lemmas)\n",
    "\n",
    "# Display results nicely\n",
    "def display_text(text: str):\n",
    "    subs = [(\"<pre>\", \"\"), (\"</pre>\", \"\"), (\"<match>\", \"\"), (\"</match>\", \"\"), (\"<post>\", \"\"), (\"</post>\", \"\"), (r\"<em>(.+?)</em>\", r\"\\033[1m\\033[36m\\1\\033[21m\\033[0m\")]\n",
    "    for pat, sub in subs:\n",
    "        text = re.sub(pat, sub, text, re.DOTALL)\n",
    "    return \"\\n\".join(wrap(text))\n",
    "\n",
    "# Display the query if any matches\n",
    "if results.count != (0, 0, 0):  # matches, docs, corpora\n",
    "    for n, (c, author, title, urn, reference, text) in enumerate(results.to_text()):\n",
    "        pprint(f\"{n}. {author}, {title}: {reference}\\n{display_text(text)}\\n\")\n"
   ]
  },
  {
   "cell_type": "markdown",
   "source": [
    "Let's go one step further: finding so-called 'semantic intertexts', namely texts that do not depend on a similarity of word form, but on a similarity of meaning. In this case, we are going to abstract away from the phrase's lexical composition, with a query that will look something like this:"
   ],
   "metadata": {
    "collapsed": false
   }
  },
  {
   "cell_type": "code",
   "execution_count": null,
   "outputs": [],
   "source": [
    "proximity_glosses = f\"[en?icy] AND [en?frost]\"\n",
    "results = searcher.search(proximity_glosses)\n",
    "\n",
    "# Display the query if any matches\n",
    "if results.count != (0, 0, 0):  # matches, docs, corpora\n",
    "    for n, (c, author, title, urn, reference, text) in enumerate(results.to_text()):\n",
    "        pprint(f\"{n}. {author}, {title}: {reference}\\n{display_text(text)}\\n\")"
   ],
   "metadata": {
    "collapsed": false,
    "pycharm": {
     "name": "#%%\n"
    }
   }
  }
 ],
 "metadata": {
  "kernelspec": {
   "display_name": "Python 3",
   "language": "python",
   "name": "python3"
  },
  "language_info": {
   "codemirror_mode": {
    "name": "ipython",
    "version": 3
   },
   "file_extension": ".py",
   "mimetype": "text/x-python",
   "name": "python",
   "nbconvert_exporter": "python",
   "pygments_lexer": "ipython3",
   "version": "3.7.2"
  }
 },
 "nbformat": 4,
 "nbformat_minor": 2
}