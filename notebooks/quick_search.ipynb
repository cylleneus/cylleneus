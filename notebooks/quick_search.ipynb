{
 "cells": [
  {
   "cell_type": "markdown",
   "metadata": {},
   "source": [
    "# Cylleneus\n",
    "#### Next-gen corpus search for electronic corpora of ancient languages"
   ]
  },
  {
   "cell_type": "code",
   "execution_count": null,
   "metadata": {
    "collapsed": true
   },
   "outputs": [],
   "source": [
    "# Get everything set up\n",
    "from textwrap import wrap\n",
    "\n",
    "import multiwordnet\n",
    "\n",
    "from cylleneus.corpus import Corpus, manifest\n",
    "from cylleneus.search import Collection, Searcher\n",
    "\n",
    "# Check MultiWordNet installation\n",
    "for language in [\"common\", \"english\", \"french\", \"hebrew\", \"italian\", \"latin\", \"spanish\"]:\n",
    "    if not multiwordnet.db.exists(language):\n",
    "        multiwordnet.db.compile(language, verbose=False)"
   ]
  },
  {
   "cell_type": "markdown",
   "metadata": {},
   "source": [
    "#### Corpus"
   ]
  },
  {
   "cell_type": "code",
   "execution_count": null,
   "outputs": [],
   "source": [
    "# List available corpora\n",
    "print(\"\\n\".join(f'{meta.description:<64}\t[{meta.language}]\t{name:<20}' for name, meta in manifest.items() if meta.repo[\"location\"] == \"remote\"))"
   ],
   "metadata": {
    "collapsed": false,
    "pycharm": {
     "name": "#%%\n"
    }
   }
  },
  {
   "cell_type": "code",
   "execution_count": null,
   "metadata": {},
   "outputs": [],
   "source": [
    "corpus = Corpus(\"\")  # Enter corpus name here\n",
    "if not corpus.searchable:\n",
    "    corpus.download()"
   ]
  },
  {
   "cell_type": "markdown",
   "source": [
    "#### Works"
   ],
   "metadata": {
    "collapsed": false,
    "pycharm": {
     "name": "#%% md\n"
    }
   }
  },
  {
   "cell_type": "code",
   "execution_count": null,
   "outputs": [],
   "source": [
    "# List works in selected corpus\n",
    "for docix, work in sorted(corpus.manifest.items(), key=lambda x: x[0]):\n",
    "    print(f\"[{docix}] {work['author']}, {work['title']}\")"
   ],
   "metadata": {
    "collapsed": false,
    "pycharm": {
     "name": "#%%\n"
    }
   }
  },
  {
   "cell_type": "code",
   "source": [
    "# Select works by their document index number...\n",
    "# docixs = []\n",
    "# collection = Collection(works=[corpus.work_by_docix(docix) for docix in docixs])\n",
    "\n",
    "# ...or use the entire corpus\n",
    "collection = Collection(works=corpus.works)"
   ],
   "metadata": {
    "collapsed": false,
    "pycharm": {
     "name": "#%%\n"
    }
   },
   "execution_count": null,
   "outputs": []
  },
  {
   "cell_type": "markdown",
   "metadata": {},
   "source": [
    "#### Query\n",
    "\n",
    "##### E.g.,\n",
    "| FORM     \t    | LEMMA    \t    | CONCEPT      \t    | SEMFIELD \t            | MORPHOLOGY \t          | ...AS A FILTER \t      |\n",
    "|:--------------|:--------------|:------------------|:----------------------|:------------------------|:----------------------|\n",
    "| ``'animos'`` \t| ``<animus>`` \t| ``[en?courage]`` \t| ``{611}`` (= Anatomy) | ``:ACC.PL.``  (Leipzig) | ``<animus>\\|ACC.PL.`` |"
   ]
  },
  {
   "cell_type": "code",
   "execution_count": null,
   "metadata": {},
   "outputs": [],
   "source": [
    "# Enter query in the space below.\n",
    "query = \"\"\"\n",
    "\n",
    "\"\"\".strip()"
   ]
  },
  {
   "cell_type": "markdown",
   "metadata": {},
   "source": [
    "#### Results"
   ]
  },
  {
   "cell_type": "code",
   "execution_count": null,
   "metadata": {},
   "outputs": [],
   "source": [
    "searcher = Searcher(collection)\n",
    "results = searcher.search(query.strip())\n",
    "\n",
    "def display_text(text: str):\n",
    "    subs = [(\"<pre>\", \"\"), (\"</pre>\", \"\"), (\"<match>\", \"\"), (\"</match>\", \"\"), (\"<post>\", \"\"), (\"</post>\", \"\"), (r\"<em>(.+?)</em>\", r\"\\033[1m\\033[36m\\1\\033[21m\\033[30m\")]\n",
    "    for pat, sub in subs:\n",
    "        text = re.sub(pat, sub, text, re.DOTALL)\n",
    "    return \"\\n\".join(wrap(text))\n",
    "\n",
    "for n, (corpus, author, title, urn, reference, text) in enumerate(results.to_text()):\n",
    "    print(f\"{n}. {author}, {title}: {reference}\\n{display_text(text)}\\n\")"
   ]
  }
 ],
 "metadata": {
  "kernelspec": {
   "display_name": "Python 3",
   "language": "python",
   "name": "python3"
  },
  "language_info": {
   "codemirror_mode": {
    "name": "ipython",
    "version": 2
   },
   "file_extension": ".py",
   "mimetype": "text/x-python",
   "name": "python",
   "nbconvert_exporter": "python",
   "pygments_lexer": "ipython2",
   "version": "2.7.6"
  },
  "pycharm": {
   "stem_cell": {
    "cell_type": "raw",
    "source": [
     "#%\n",
     "\n"
    ],
    "metadata": {
     "collapsed": false
    }
   }
  }
 },
 "nbformat": 4,
 "nbformat_minor": 0
}
