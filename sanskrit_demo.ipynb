{
 "cells": [
  {
   "cell_type": "markdown",
   "metadata": {},
   "source": [
    "# Cylleneus + Sanskrit\n",
    "#### Next-gen corpus search for electronic corpora of ancient languages"
   ]
  },
  {
   "cell_type": "code",
   "execution_count": null,
   "metadata": {
    "collapsed": true
   },
   "outputs": [],
   "source": [
    "# Get everything set up\n",
    "from cylleneus.corpus import Corpus, manifest\n",
    "from cylleneus.search import Searcher, Collection\n",
    "import multiwordnet\n",
    "\n",
    "# Check MultiWordNet installation\n",
    "for language in [\"common\", \"english\", \"french\", \"hebrew\", \"italian\", \"latin\", \"spanish\"]:\n",
    "    if not multiwordnet.db.exists(language):\n",
    "        multiwordnet.db.compile(language)"
   ]
  },
  {
   "cell_type": "markdown",
   "source": [
    "#### Corpus"
   ],
   "metadata": {
    "collapsed": false
   }
  },
  {
   "cell_type": "code",
   "execution_count": null,
   "metadata": {},
   "outputs": [],
   "source": [
    "corpus = Corpus(\"dcs\")  # Enter corpus name here\n",
    "if not corpus.searchable:\n",
    "    corpus.download()"
   ]
  },
  {
   "cell_type": "markdown",
   "source": [
    "###### Select works"
   ],
   "metadata": {
    "collapsed": false
   }
  },
  {
   "cell_type": "code",
   "execution_count": null,
   "outputs": [],
   "source": [
    "# List works in selected corpus\n",
    "#for work in sorted(corpus.works, key=lambda x: x.docix):\n",
    "#    print(f\"{work.author}, {work.title} {work.docix}\")\n",
    "\n",
    "# Select works by docix...\n",
    "# docixs = []\n",
    "# collection = Collection(works=[corpus.work_by_docix(docix) for docix in docixs])\n",
    "\n",
    "# ...or use the entire corpus\n",
    "collection = Collection(works=corpus.works)"
   ],
   "metadata": {
    "collapsed": false,
    "pycharm": {
     "name": "#%%\n"
    }
   }
  },
  {
   "cell_type": "markdown",
   "metadata": {},
   "source": [
    "#### Query"
   ]
  },
  {
   "cell_type": "code",
   "execution_count": null,
   "metadata": {},
   "outputs": [],
   "source": [
    "searcher = Searcher(collection)\n",
    "\n",
    "# Enter query in the space below; forms and lemmas must be specified in IAST transliteration.\n",
    "# E.g., 'saṃkrīḍamānaḥ' (form), <deva> (lemma), [en?praise] (concept), [en?praise]|INS.SG. (concept with morphological filtering), <māsa> THEN <kathaṃcid> (adjacency), [it?re] (concept in Italian)\n",
    "query = \"\"\"\n",
    "\n",
    "\"\"\""
   ]
  },
  {
   "cell_type": "markdown",
   "metadata": {},
   "source": [
    "#### Results"
   ]
  },
  {
   "cell_type": "code",
   "execution_count": null,
   "metadata": {},
   "outputs": [],
   "source": [
    "results = searcher.search(query.strip())\n",
    "\n",
    "for hlite in results.highlights:\n",
    "    print(f\"{hlite.author}, {hlite.title}, {hlite.reference}\")\n",
    "    print(f\"\\t{hlite.text}\")"
   ]
  }
 ],
 "metadata": {
  "kernelspec": {
   "display_name": "Python 3",
   "language": "python",
   "name": "python3"
  },
  "language_info": {
   "codemirror_mode": {
    "name": "ipython",
    "version": 2
   },
   "file_extension": ".py",
   "mimetype": "text/x-python",
   "name": "python",
   "nbconvert_exporter": "python",
   "pygments_lexer": "ipython2",
   "version": "2.7.6"
  },
  "pycharm": {
   "stem_cell": {
    "cell_type": "raw",
    "source": [
     "#%\n",
     "\n",
     "\n"
    ],
    "metadata": {
     "collapsed": false
    }
   }
  }
 },
 "nbformat": 4,
 "nbformat_minor": 0
}
