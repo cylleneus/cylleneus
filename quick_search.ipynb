{
 "cells": [
  {
   "cell_type": "markdown",
   "metadata": {},
   "source": [
    "# Cylleneus\n",
    "#### Next-gen corpus search for electronic corpora of ancient languages"
   ]
  },
  {
   "cell_type": "code",
   "execution_count": 1,
   "metadata": {
    "collapsed": true
   },
   "outputs": [],
   "source": [
    "# Get everything set up\n",
    "from cylleneus.corpus import Corpus, manifest\n",
    "from cylleneus.search import Searcher, Collection\n",
    "import multiwordnet\n",
    "\n",
    "# Check MultiWordNet installation\n",
    "for language in [\"common\", \"english\", \"french\", \"hebrew\", \"italian\", \"latin\", \"spanish\"]:\n",
    "    if not multiwordnet.db.exists(language):\n",
    "        multiwordnet.db.compile(language, verbatim=False)"
   ]
  },
  {
   "cell_type": "markdown",
   "metadata": {},
   "source": [
    "#### Corpus"
   ]
  },
  {
   "cell_type": "code",
   "execution_count": 2,
   "outputs": [
    {
     "name": "stdout",
     "output_type": "stream",
     "text": [
      "translation_alignments [eng], atlas [grk], agldt [lat], camena [lat], lasla [lat], latin_library [lat], perseus [lat], perseus_xml [lat], proiel [lat], dcs [skt]\n"
     ]
    }
   ],
   "source": [
    "# List available corpora\n",
    "print(\", \".join([f'{name} [{meta.language}]' for name, meta in manifest.items() if meta.repo[\"location\"] == \"remote\"]))"
   ],
   "metadata": {
    "collapsed": false,
    "pycharm": {
     "name": "#%%\n"
    }
   }
  },
  {
   "cell_type": "code",
   "execution_count": 3,
   "metadata": {},
   "outputs": [],
   "source": [
    "corpus = Corpus(\"\")  # Enter corpus name here\n",
    "if not corpus.is_searchable:\n",
    "    corpus.download()\n",
    "collection = Collection(works=corpus.works)"
   ]
  },
  {
   "cell_type": "code",
   "execution_count": 4,
   "outputs": [],
   "source": [
    "# List works in selected corpus\n",
    "for work in sorted(collection.works, key=lambda x: x.docix):\n",
    "    print(f\"{work.author}, {work.title} {work.docix}\")"
   ],
   "metadata": {
    "collapsed": false,
    "pycharm": {
     "name": "#%%\n"
    }
   }
  },
  {
   "cell_type": "markdown",
   "metadata": {},
   "source": [
    "#### Query"
   ]
  },
  {
   "cell_type": "code",
   "execution_count": 5,
   "metadata": {},
   "outputs": [],
   "source": [
    "# Enter query in the space below\n",
    "query = \"\"\"\n",
    "\n",
    "\"\"\""
   ]
  },
  {
   "cell_type": "markdown",
   "metadata": {},
   "source": [
    "#### Results"
   ]
  },
  {
   "cell_type": "code",
   "execution_count": 6,
   "metadata": {},
   "outputs": [],
   "source": [
    "searcher = Searcher(collection)\n",
    "results = searcher.search(query.strip())\n",
    "\n",
    "for hlite in results.highlights:\n",
    "    print(f\"{hlite.author}, {hlite.title}, {hlite.reference}: {hlite.text}\")"
   ]
  }
 ],
 "metadata": {
  "kernelspec": {
   "display_name": "Python 3",
   "language": "python",
   "name": "python3"
  },
  "language_info": {
   "codemirror_mode": {
    "name": "ipython",
    "version": 2
   },
   "file_extension": ".py",
   "mimetype": "text/x-python",
   "name": "python",
   "nbconvert_exporter": "python",
   "pygments_lexer": "ipython2",
   "version": "2.7.6"
  },
  "pycharm": {
   "stem_cell": {
    "cell_type": "raw",
    "source": [
     "#%\n"
    ],
    "metadata": {
     "collapsed": false
    }
   }
  }
 },
 "nbformat": 4,
 "nbformat_minor": 0
}